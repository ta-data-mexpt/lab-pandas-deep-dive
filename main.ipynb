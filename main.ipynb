{
  "cells": [
    {
      "cell_type": "markdown",
      "metadata": {
        "id": "oPTt_vpAmSvd"
      },
      "source": [
        "# Lab | Pandas Deep-Dive"
      ]
    },
    {
      "cell_type": "markdown",
      "metadata": {
        "id": "BHDJo6HDmSvh"
      },
      "source": [
        "### 1. Import Pandas package under the alias pd and Numpy under the alias np"
      ]
    },
    {
      "cell_type": "code",
      "execution_count": null,
      "metadata": {
        "id": "Wvlh72lhmSvj"
      },
      "outputs": [],
      "source": [
        "import pandas as pd\n",
        "import numpy as np"
      ]
    },
    {
      "cell_type": "code",
      "source": [
        "from google.colab import drive\n",
        "drive.mount('/content/drive')\n"
      ],
      "metadata": {
        "colab": {
          "base_uri": "https://localhost:8080/"
        },
        "id": "a4b5DtXgmlU7",
        "outputId": "b92fa24a-1d8b-406c-e7b4-276e38d76099"
      },
      "execution_count": null,
      "outputs": [
        {
          "output_type": "stream",
          "name": "stdout",
          "text": [
            "Mounted at /content/drive\n"
          ]
        }
      ]
    },
    {
      "cell_type": "markdown",
      "metadata": {
        "id": "5g7Eeo0WmSvk"
      },
      "source": [
        "### 2. Define a variable called `path` that contains the path to the csv file you downloaded. "
      ]
    },
    {
      "cell_type": "code",
      "execution_count": null,
      "metadata": {
        "id": "U_JyZNyjmSvk"
      },
      "outputs": [],
      "source": [
        "path = '/content/drive/MyDrive/Ironhack/Laboratorios/lab-pandas-deep-dive/data/apple_store.csv'"
      ]
    },
    {
      "cell_type": "markdown",
      "metadata": {
        "id": "Da0G70xUmSvl"
      },
      "source": [
        "### 3. Using the Pandas `read_csv()` method, import the csv file at the path above. \n",
        "\n",
        "Assign the returned value to a variable called `data`.\n",
        "\n",
        "Note: you can omit the `sep` parameter for `read_csv()` because the csv file uses the default separator of \",\"."
      ]
    },
    {
      "cell_type": "code",
      "source": [
        "data = pd.read_csv(path)"
      ],
      "metadata": {
        "id": "LL617LRwttlz"
      },
      "execution_count": null,
      "outputs": []
    },
    {
      "cell_type": "markdown",
      "metadata": {
        "id": "TN3vyriAmSvm"
      },
      "source": [
        "### 4. Print the first 5 rows of `data` to see what the data look like.\n",
        "\n",
        "A data analyst usually does this to have a general understanding about what the data look like before digging deep."
      ]
    },
    {
      "cell_type": "code",
      "execution_count": null,
      "metadata": {
        "colab": {
          "base_uri": "https://localhost:8080/",
          "height": 285
        },
        "id": "KvHKcpN4mSvn",
        "outputId": "e93ec72f-50fb-49fb-905c-d14c25ca4435"
      },
      "outputs": [
        {
          "output_type": "execute_result",
          "data": {
            "text/html": [
              "\n",
              "  <div id=\"df-7c39d56a-ab5a-4a7c-b53c-ce9486822a88\">\n",
              "    <div class=\"colab-df-container\">\n",
              "      <div>\n",
              "<style scoped>\n",
              "    .dataframe tbody tr th:only-of-type {\n",
              "        vertical-align: middle;\n",
              "    }\n",
              "\n",
              "    .dataframe tbody tr th {\n",
              "        vertical-align: top;\n",
              "    }\n",
              "\n",
              "    .dataframe thead th {\n",
              "        text-align: right;\n",
              "    }\n",
              "</style>\n",
              "<table border=\"1\" class=\"dataframe\">\n",
              "  <thead>\n",
              "    <tr style=\"text-align: right;\">\n",
              "      <th></th>\n",
              "      <th>id</th>\n",
              "      <th>track_name</th>\n",
              "      <th>size_bytes</th>\n",
              "      <th>price</th>\n",
              "      <th>rating_count_tot</th>\n",
              "      <th>rating_count_ver</th>\n",
              "      <th>user_rating</th>\n",
              "      <th>user_rating_ver</th>\n",
              "      <th>prime_genre</th>\n",
              "    </tr>\n",
              "  </thead>\n",
              "  <tbody>\n",
              "    <tr>\n",
              "      <th>0</th>\n",
              "      <td>281656475</td>\n",
              "      <td>PAC-MAN Premium</td>\n",
              "      <td>100788224</td>\n",
              "      <td>3.99</td>\n",
              "      <td>21292</td>\n",
              "      <td>26</td>\n",
              "      <td>4.0</td>\n",
              "      <td>4.5</td>\n",
              "      <td>Games</td>\n",
              "    </tr>\n",
              "    <tr>\n",
              "      <th>1</th>\n",
              "      <td>281796108</td>\n",
              "      <td>Evernote - stay organized</td>\n",
              "      <td>158578688</td>\n",
              "      <td>0.00</td>\n",
              "      <td>161065</td>\n",
              "      <td>26</td>\n",
              "      <td>4.0</td>\n",
              "      <td>3.5</td>\n",
              "      <td>Productivity</td>\n",
              "    </tr>\n",
              "    <tr>\n",
              "      <th>2</th>\n",
              "      <td>281940292</td>\n",
              "      <td>WeatherBug - Local Weather, Radar, Maps, Alerts</td>\n",
              "      <td>100524032</td>\n",
              "      <td>0.00</td>\n",
              "      <td>188583</td>\n",
              "      <td>2822</td>\n",
              "      <td>3.5</td>\n",
              "      <td>4.5</td>\n",
              "      <td>Weather</td>\n",
              "    </tr>\n",
              "    <tr>\n",
              "      <th>3</th>\n",
              "      <td>282614216</td>\n",
              "      <td>eBay: Best App to Buy, Sell, Save! Online Shop...</td>\n",
              "      <td>128512000</td>\n",
              "      <td>0.00</td>\n",
              "      <td>262241</td>\n",
              "      <td>649</td>\n",
              "      <td>4.0</td>\n",
              "      <td>4.5</td>\n",
              "      <td>Shopping</td>\n",
              "    </tr>\n",
              "    <tr>\n",
              "      <th>4</th>\n",
              "      <td>282935706</td>\n",
              "      <td>Bible</td>\n",
              "      <td>92774400</td>\n",
              "      <td>0.00</td>\n",
              "      <td>985920</td>\n",
              "      <td>5320</td>\n",
              "      <td>4.5</td>\n",
              "      <td>5.0</td>\n",
              "      <td>Reference</td>\n",
              "    </tr>\n",
              "  </tbody>\n",
              "</table>\n",
              "</div>\n",
              "      <button class=\"colab-df-convert\" onclick=\"convertToInteractive('df-7c39d56a-ab5a-4a7c-b53c-ce9486822a88')\"\n",
              "              title=\"Convert this dataframe to an interactive table.\"\n",
              "              style=\"display:none;\">\n",
              "        \n",
              "  <svg xmlns=\"http://www.w3.org/2000/svg\" height=\"24px\"viewBox=\"0 0 24 24\"\n",
              "       width=\"24px\">\n",
              "    <path d=\"M0 0h24v24H0V0z\" fill=\"none\"/>\n",
              "    <path d=\"M18.56 5.44l.94 2.06.94-2.06 2.06-.94-2.06-.94-.94-2.06-.94 2.06-2.06.94zm-11 1L8.5 8.5l.94-2.06 2.06-.94-2.06-.94L8.5 2.5l-.94 2.06-2.06.94zm10 10l.94 2.06.94-2.06 2.06-.94-2.06-.94-.94-2.06-.94 2.06-2.06.94z\"/><path d=\"M17.41 7.96l-1.37-1.37c-.4-.4-.92-.59-1.43-.59-.52 0-1.04.2-1.43.59L10.3 9.45l-7.72 7.72c-.78.78-.78 2.05 0 2.83L4 21.41c.39.39.9.59 1.41.59.51 0 1.02-.2 1.41-.59l7.78-7.78 2.81-2.81c.8-.78.8-2.07 0-2.86zM5.41 20L4 18.59l7.72-7.72 1.47 1.35L5.41 20z\"/>\n",
              "  </svg>\n",
              "      </button>\n",
              "      \n",
              "  <style>\n",
              "    .colab-df-container {\n",
              "      display:flex;\n",
              "      flex-wrap:wrap;\n",
              "      gap: 12px;\n",
              "    }\n",
              "\n",
              "    .colab-df-convert {\n",
              "      background-color: #E8F0FE;\n",
              "      border: none;\n",
              "      border-radius: 50%;\n",
              "      cursor: pointer;\n",
              "      display: none;\n",
              "      fill: #1967D2;\n",
              "      height: 32px;\n",
              "      padding: 0 0 0 0;\n",
              "      width: 32px;\n",
              "    }\n",
              "\n",
              "    .colab-df-convert:hover {\n",
              "      background-color: #E2EBFA;\n",
              "      box-shadow: 0px 1px 2px rgba(60, 64, 67, 0.3), 0px 1px 3px 1px rgba(60, 64, 67, 0.15);\n",
              "      fill: #174EA6;\n",
              "    }\n",
              "\n",
              "    [theme=dark] .colab-df-convert {\n",
              "      background-color: #3B4455;\n",
              "      fill: #D2E3FC;\n",
              "    }\n",
              "\n",
              "    [theme=dark] .colab-df-convert:hover {\n",
              "      background-color: #434B5C;\n",
              "      box-shadow: 0px 1px 3px 1px rgba(0, 0, 0, 0.15);\n",
              "      filter: drop-shadow(0px 1px 2px rgba(0, 0, 0, 0.3));\n",
              "      fill: #FFFFFF;\n",
              "    }\n",
              "  </style>\n",
              "\n",
              "      <script>\n",
              "        const buttonEl =\n",
              "          document.querySelector('#df-7c39d56a-ab5a-4a7c-b53c-ce9486822a88 button.colab-df-convert');\n",
              "        buttonEl.style.display =\n",
              "          google.colab.kernel.accessAllowed ? 'block' : 'none';\n",
              "\n",
              "        async function convertToInteractive(key) {\n",
              "          const element = document.querySelector('#df-7c39d56a-ab5a-4a7c-b53c-ce9486822a88');\n",
              "          const dataTable =\n",
              "            await google.colab.kernel.invokeFunction('convertToInteractive',\n",
              "                                                     [key], {});\n",
              "          if (!dataTable) return;\n",
              "\n",
              "          const docLinkHtml = 'Like what you see? Visit the ' +\n",
              "            '<a target=\"_blank\" href=https://colab.research.google.com/notebooks/data_table.ipynb>data table notebook</a>'\n",
              "            + ' to learn more about interactive tables.';\n",
              "          element.innerHTML = '';\n",
              "          dataTable['output_type'] = 'display_data';\n",
              "          await google.colab.output.renderOutput(dataTable, element);\n",
              "          const docLink = document.createElement('div');\n",
              "          docLink.innerHTML = docLinkHtml;\n",
              "          element.appendChild(docLink);\n",
              "        }\n",
              "      </script>\n",
              "    </div>\n",
              "  </div>\n",
              "  "
            ],
            "text/plain": [
              "          id  ...   prime_genre\n",
              "0  281656475  ...         Games\n",
              "1  281796108  ...  Productivity\n",
              "2  281940292  ...       Weather\n",
              "3  282614216  ...      Shopping\n",
              "4  282935706  ...     Reference\n",
              "\n",
              "[5 rows x 9 columns]"
            ]
          },
          "metadata": {},
          "execution_count": 5
        }
      ],
      "source": [
        "data.head()"
      ]
    },
    {
      "cell_type": "markdown",
      "metadata": {
        "id": "DHGzIX7MmSvn"
      },
      "source": [
        "### 5. Print the summary (info) of the data."
      ]
    },
    {
      "cell_type": "code",
      "execution_count": null,
      "metadata": {
        "colab": {
          "base_uri": "https://localhost:8080/"
        },
        "id": "5qEquE-6mSvn",
        "outputId": "26a5c996-e899-4fdb-ee42-e967b736cdbb"
      },
      "outputs": [
        {
          "output_type": "stream",
          "name": "stdout",
          "text": [
            "<class 'pandas.core.frame.DataFrame'>\n",
            "RangeIndex: 7197 entries, 0 to 7196\n",
            "Data columns (total 9 columns):\n",
            " #   Column            Non-Null Count  Dtype  \n",
            "---  ------            --------------  -----  \n",
            " 0   id                7197 non-null   int64  \n",
            " 1   track_name        7197 non-null   object \n",
            " 2   size_bytes        7197 non-null   int64  \n",
            " 3   price             7197 non-null   float64\n",
            " 4   rating_count_tot  7197 non-null   int64  \n",
            " 5   rating_count_ver  7197 non-null   int64  \n",
            " 6   user_rating       7197 non-null   float64\n",
            " 7   user_rating_ver   7197 non-null   float64\n",
            " 8   prime_genre       7197 non-null   object \n",
            "dtypes: float64(3), int64(4), object(2)\n",
            "memory usage: 506.2+ KB\n"
          ]
        }
      ],
      "source": [
        "data.info()"
      ]
    },
    {
      "cell_type": "markdown",
      "metadata": {
        "id": "lEcCzhsLmSvo"
      },
      "source": [
        "### 6. Print the number of columns in the data."
      ]
    },
    {
      "cell_type": "code",
      "execution_count": null,
      "metadata": {
        "colab": {
          "base_uri": "https://localhost:8080/"
        },
        "id": "AvMqt_iTmSvo",
        "outputId": "31cc52f8-625f-48db-dbef-a76ae10ebdf8"
      },
      "outputs": [
        {
          "output_type": "execute_result",
          "data": {
            "text/plain": [
              "9"
            ]
          },
          "metadata": {},
          "execution_count": 7
        }
      ],
      "source": [
        "len(data.columns)"
      ]
    },
    {
      "cell_type": "markdown",
      "metadata": {
        "id": "Fe7dBA8RmSvo"
      },
      "source": [
        "### 7. Print all column names."
      ]
    },
    {
      "cell_type": "code",
      "execution_count": null,
      "metadata": {
        "colab": {
          "base_uri": "https://localhost:8080/"
        },
        "id": "51-UXt6DmSvp",
        "outputId": "0575555e-29a1-4a1e-b801-6a1f2705027d"
      },
      "outputs": [
        {
          "output_type": "execute_result",
          "data": {
            "text/plain": [
              "Index(['id', 'track_name', 'size_bytes', 'price', 'rating_count_tot',\n",
              "       'rating_count_ver', 'user_rating', 'user_rating_ver', 'prime_genre'],\n",
              "      dtype='object')"
            ]
          },
          "metadata": {},
          "execution_count": 8
        }
      ],
      "source": [
        "data.columns"
      ]
    },
    {
      "cell_type": "markdown",
      "metadata": {
        "id": "6rgessl7mSvp"
      },
      "source": [
        "## Now that we have a general understanding of the data, we'll start working on the challenge questions.\n",
        "\n",
        "### 8. How many apps are there in the data source? \n",
        "\n",
        "Print the # of observations of the data.\n",
        "\n",
        "*Hint: Your code should return the number 7197.*"
      ]
    },
    {
      "cell_type": "code",
      "execution_count": null,
      "metadata": {
        "colab": {
          "base_uri": "https://localhost:8080/"
        },
        "id": "0mcE5TWJmSvq",
        "outputId": "878727f7-f194-4c21-f987-24fa984d16ba"
      },
      "outputs": [
        {
          "output_type": "execute_result",
          "data": {
            "text/plain": [
              "7197"
            ]
          },
          "metadata": {},
          "execution_count": 39
        }
      ],
      "source": [
        "apps = data.drop_duplicates(subset = ['id'])\n",
        "apps\n",
        "\n",
        "len(apps.id)"
      ]
    },
    {
      "cell_type": "markdown",
      "metadata": {
        "id": "XbsY3qs9mSvq"
      },
      "source": [
        "### 9. What is the average rating of all apps? \n",
        "\n",
        "First, read the `user_rating` column into a varialbe named `user_rating`."
      ]
    },
    {
      "cell_type": "code",
      "execution_count": null,
      "metadata": {
        "id": "KD2MCPBZmSvq"
      },
      "outputs": [],
      "source": [
        "user_rating = data.user_rating"
      ]
    },
    {
      "cell_type": "markdown",
      "metadata": {
        "id": "rF-8yHbimSvq"
      },
      "source": [
        "Now you can calculate the average of the `user_rating` data.\n",
        "\n",
        "Your code should return 3.526955675976101"
      ]
    },
    {
      "cell_type": "code",
      "execution_count": null,
      "metadata": {
        "colab": {
          "base_uri": "https://localhost:8080/"
        },
        "id": "Bv0Kg8C-mSvr",
        "outputId": "358e174d-d51f-4846-8c6b-6ba6681396c9"
      },
      "outputs": [
        {
          "output_type": "execute_result",
          "data": {
            "text/plain": [
              "3.526955675976101"
            ]
          },
          "metadata": {},
          "execution_count": 12
        }
      ],
      "source": [
        "user_rating.mean()"
      ]
    },
    {
      "cell_type": "markdown",
      "metadata": {
        "id": "i1AZyWwhmSvr"
      },
      "source": [
        "### 10. How many apps have an average rating no less than 4?\n",
        "\n",
        "First, filter `user_rating` where its value >= 4. \n",
        "\n",
        "Assign the filtered dataframe to a new variable called `user_rating_high`."
      ]
    },
    {
      "cell_type": "code",
      "execution_count": null,
      "metadata": {
        "colab": {
          "base_uri": "https://localhost:8080/"
        },
        "id": "I3vc09xemSvr",
        "outputId": "93802cde-5f50-4710-d76f-d7ee48b309a2"
      },
      "outputs": [
        {
          "output_type": "execute_result",
          "data": {
            "text/plain": [
              "0       4.0\n",
              "1       4.0\n",
              "3       4.0\n",
              "4       4.5\n",
              "5       4.0\n",
              "       ... \n",
              "7192    4.5\n",
              "7193    4.5\n",
              "7194    4.5\n",
              "7195    4.5\n",
              "7196    5.0\n",
              "Name: user_rating, Length: 4781, dtype: float64"
            ]
          },
          "metadata": {},
          "execution_count": 15
        }
      ],
      "source": [
        "user_rating_high = user_rating[user_rating >= 4]\n",
        "user_rating_high"
      ]
    },
    {
      "cell_type": "markdown",
      "metadata": {
        "id": "UDxx-wHamSvr"
      },
      "source": [
        "Now obtain the length of `user_rating_high` which should return 4781."
      ]
    },
    {
      "cell_type": "code",
      "execution_count": null,
      "metadata": {
        "colab": {
          "base_uri": "https://localhost:8080/"
        },
        "id": "V6vI9PEXmSvr",
        "outputId": "68752edb-03f2-4354-b3f7-adda62e24933"
      },
      "outputs": [
        {
          "output_type": "execute_result",
          "data": {
            "text/plain": [
              "4781"
            ]
          },
          "metadata": {},
          "execution_count": 16
        }
      ],
      "source": [
        "len(user_rating_high)"
      ]
    },
    {
      "cell_type": "markdown",
      "metadata": {
        "id": "8YYOJ0IJmSvr"
      },
      "source": [
        "### 11. How many genres are there in total for all the apps?\n",
        "\n",
        "Define a new variable named `genres` that contains the `prime_genre` column of `data`. Google for how to obtain unique values of a dataframe column. "
      ]
    },
    {
      "cell_type": "code",
      "execution_count": null,
      "metadata": {
        "colab": {
          "base_uri": "https://localhost:8080/"
        },
        "id": "1trvpVDhmSvr",
        "outputId": "47009c33-b43d-4468-a46f-2dbf3c8c91ed"
      },
      "outputs": [
        {
          "output_type": "execute_result",
          "data": {
            "text/plain": [
              "array(['Games', 'Productivity', 'Weather', 'Shopping', 'Reference',\n",
              "       'Finance', 'Music', 'Utilities', 'Travel', 'Social Networking',\n",
              "       'Sports', 'Business', 'Health & Fitness', 'Entertainment',\n",
              "       'Photo & Video', 'Navigation', 'Education', 'Lifestyle',\n",
              "       'Food & Drink', 'News', 'Book', 'Medical', 'Catalogs'],\n",
              "      dtype=object)"
            ]
          },
          "metadata": {},
          "execution_count": 16
        }
      ],
      "source": [
        "genres= data.prime_genre.unique()\n",
        "genres"
      ]
    },
    {
      "cell_type": "markdown",
      "metadata": {
        "id": "mTLUZ86fmSvr"
      },
      "source": [
        "Print the length of the unique values of `genres`. Your code should return 23."
      ]
    },
    {
      "cell_type": "code",
      "execution_count": null,
      "metadata": {
        "colab": {
          "base_uri": "https://localhost:8080/"
        },
        "id": "Lj97BDI0mSvr",
        "outputId": "e5b9d6de-7b3e-4b22-e072-c04def98f972"
      },
      "outputs": [
        {
          "output_type": "execute_result",
          "data": {
            "text/plain": [
              "23"
            ]
          },
          "metadata": {},
          "execution_count": 17
        }
      ],
      "source": [
        "len(genres)"
      ]
    },
    {
      "cell_type": "markdown",
      "metadata": {
        "id": "KfTkY6HXmSvr"
      },
      "source": [
        "### 12. What are the top 3 genres that have the most number of apps?\n",
        "\n",
        "What you want to do is to count the number of occurrences of each unique genre values. Because you already know how to obtain the unique genre values, you can of course count the # of apps of each genre one by one. However, Pandas has a convient function to let you count all values of a dataframe column with a single command. Google for \"pandas count values\" to find the solution. Your code should return the following:\n",
        "\n",
        "```\n",
        "Games            3862\n",
        "Entertainment     535\n",
        "Education         453\n",
        "Name: prime_genre, dtype: int64\n",
        "```"
      ]
    },
    {
      "cell_type": "code",
      "execution_count": null,
      "metadata": {
        "colab": {
          "base_uri": "https://localhost:8080/"
        },
        "id": "2qlIx_GtmSvs",
        "outputId": "a511f3b0-259f-4785-de37-4af81823d0e8"
      },
      "outputs": [
        {
          "output_type": "execute_result",
          "data": {
            "text/plain": [
              "Games            3862\n",
              "Entertainment     535\n",
              "Education         453\n",
              "Name: prime_genre, dtype: int64"
            ]
          },
          "metadata": {},
          "execution_count": 18
        }
      ],
      "source": [
        "# genres.value_counts()\n",
        "top_genre = data['prime_genre'].value_counts().head(3)\n",
        "\n",
        "top_genre_2 = data['prime_genre'].value_counts()\n",
        "top_genre_2 = top_genre_2[:3]\n",
        "top_genre_2"
      ]
    },
    {
      "cell_type": "markdown",
      "metadata": {
        "id": "8R7FWPuvmSvs"
      },
      "source": [
        "### 13. Which genre is most likely to contain free apps?\n",
        "\n",
        "First, filter `data` where the price is 0.00. Assign the filtered data to a new variable called `free_apps`. Then count the values in `free_apps`. Your code should return:\n",
        "\n",
        "```\n",
        "Games                2257\n",
        "Entertainment         334\n",
        "Photo & Video         167\n",
        "Social Networking     143\n",
        "Education             132\n",
        "Shopping              121\n",
        "Utilities             109\n",
        "Lifestyle              94\n",
        "Finance                84\n",
        "Sports                 79\n",
        "Health & Fitness       76\n",
        "Music                  67\n",
        "Book                   66\n",
        "Productivity           62\n",
        "News                   58\n",
        "Travel                 56\n",
        "Food & Drink           43\n",
        "Weather                31\n",
        "Navigation             20\n",
        "Reference              20\n",
        "Business               20\n",
        "Catalogs                9\n",
        "Medical                 8\n",
        "Name: prime_genre, dtype: int64\n",
        "```"
      ]
    },
    {
      "cell_type": "code",
      "source": [
        "free_apps = data[data.price == 0.00]\n",
        "free_apps.head(2)\n",
        "\n",
        "free_apps['prime_genre'].value_counts()"
      ],
      "metadata": {
        "colab": {
          "base_uri": "https://localhost:8080/"
        },
        "id": "1iYT4k8X0QBN",
        "outputId": "2ac5d327-22bb-441b-9e2b-87c5b32614ed"
      },
      "execution_count": null,
      "outputs": [
        {
          "output_type": "execute_result",
          "data": {
            "text/plain": [
              "Games                2257\n",
              "Entertainment         334\n",
              "Photo & Video         167\n",
              "Social Networking     143\n",
              "Education             132\n",
              "Shopping              121\n",
              "Utilities             109\n",
              "Lifestyle              94\n",
              "Finance                84\n",
              "Sports                 79\n",
              "Health & Fitness       76\n",
              "Music                  67\n",
              "Book                   66\n",
              "Productivity           62\n",
              "News                   58\n",
              "Travel                 56\n",
              "Food & Drink           43\n",
              "Weather                31\n",
              "Navigation             20\n",
              "Reference              20\n",
              "Business               20\n",
              "Catalogs                9\n",
              "Medical                 8\n",
              "Name: prime_genre, dtype: int64"
            ]
          },
          "metadata": {},
          "execution_count": 20
        }
      ]
    },
    {
      "cell_type": "markdown",
      "metadata": {
        "id": "Qw2M8WA6mSvs"
      },
      "source": [
        "### 14. Now you can calculate the proportion of the free apps in each genre based on the value counts you obtained in the previous two steps. \n",
        "\n",
        "Challenge yourself by achieving that with one line of code. The output should look like:\n",
        "\n",
        "```\n",
        "Shopping             0.991803\n",
        "Catalogs             0.900000\n",
        "Social Networking    0.856287\n",
        "Finance              0.807692\n",
        "News                 0.773333\n",
        "Sports               0.692982\n",
        "Travel               0.691358\n",
        "Food & Drink         0.682540\n",
        "Lifestyle            0.652778\n",
        "Entertainment        0.624299\n",
        "Book                 0.589286\n",
        "Games                0.584412\n",
        "Music                0.485507\n",
        "Photo & Video        0.478510\n",
        "Utilities            0.439516\n",
        "Navigation           0.434783\n",
        "Weather              0.430556\n",
        "Health & Fitness     0.422222\n",
        "Business             0.350877\n",
        "Productivity         0.348315\n",
        "Medical              0.347826\n",
        "Reference            0.312500\n",
        "Education            0.291391\n",
        "Name: prime_genre, dtype: float64\n",
        "```\n",
        "\n",
        "The numbers are interesting, aren't they?"
      ]
    },
    {
      "cell_type": "code",
      "source": [
        "(free_apps.prime_genre.value_counts()/apps.prime_genre.value_counts()).sort_values(ascending = False)"
      ],
      "metadata": {
        "id": "Yp8suniu3bhe",
        "outputId": "81a02707-65e7-4448-c7a9-b95cdb7965e9",
        "colab": {
          "base_uri": "https://localhost:8080/"
        }
      },
      "execution_count": null,
      "outputs": [
        {
          "output_type": "execute_result",
          "data": {
            "text/plain": [
              "Shopping             0.991803\n",
              "Catalogs             0.900000\n",
              "Social Networking    0.856287\n",
              "Finance              0.807692\n",
              "News                 0.773333\n",
              "Sports               0.692982\n",
              "Travel               0.691358\n",
              "Food & Drink         0.682540\n",
              "Lifestyle            0.652778\n",
              "Entertainment        0.624299\n",
              "Book                 0.589286\n",
              "Games                0.584412\n",
              "Music                0.485507\n",
              "Photo & Video        0.478510\n",
              "Utilities            0.439516\n",
              "Navigation           0.434783\n",
              "Weather              0.430556\n",
              "Health & Fitness     0.422222\n",
              "Business             0.350877\n",
              "Productivity         0.348315\n",
              "Medical              0.347826\n",
              "Reference            0.312500\n",
              "Education            0.291391\n",
              "Name: prime_genre, dtype: float64"
            ]
          },
          "metadata": {},
          "execution_count": 46
        }
      ]
    },
    {
      "cell_type": "markdown",
      "metadata": {
        "id": "gGhNlUaMmSvs"
      },
      "source": [
        "### 15. If a developer tries to make money by developing and selling Apple Store apps, in which genre should s/he develop the apps? Please assume all apps cost the same amount of time and expense to develop.\n",
        "\n",
        "We will leave this question to you. There are several way to solve it. Ideally your output should look like below:\n",
        "\n",
        "```\n",
        "    average_price              genre\n",
        "21       8.776087            Medical\n",
        "11       5.116316           Business\n",
        "4        4.836875          Reference\n",
        "6        4.835435              Music\n",
        "1        4.330562       Productivity\n",
        "15       4.124783         Navigation\n",
        "16       4.028234          Education\n",
        "12       1.916444   Health & Fitness\n",
        "20       1.790536               Book\n",
        "7        1.647621          Utilities\n",
        "2        1.605417            Weather\n",
        "18       1.552381       Food & Drink\n",
        "14       1.473295      Photo & Video\n",
        "0        1.432923              Games\n",
        "8        1.120370             Travel\n",
        "10       0.953070             Sports\n",
        "13       0.889701      Entertainment\n",
        "17       0.885417          Lifestyle\n",
        "22       0.799000           Catalogs\n",
        "19       0.517733               News\n",
        "5        0.421154            Finance\n",
        "9        0.339880  Social Networking\n",
        "3        0.016311           Shopping\n",
        "```"
      ]
    },
    {
      "cell_type": "code",
      "execution_count": null,
      "metadata": {
        "id": "pxYqoqCmmSvt",
        "colab": {
          "base_uri": "https://localhost:8080/"
        },
        "outputId": "d171a98a-0b13-4e2a-ac1d-6902ba953a88"
      },
      "outputs": [
        {
          "output_type": "execute_result",
          "data": {
            "text/plain": [
              "prime_genre\n",
              "Medical              8.776087\n",
              "Business             5.116316\n",
              "Reference            4.836875\n",
              "Music                4.835435\n",
              "Productivity         4.330562\n",
              "Navigation           4.124783\n",
              "Education            4.028234\n",
              "Health & Fitness     1.916444\n",
              "Book                 1.790536\n",
              "Utilities            1.647621\n",
              "Weather              1.605417\n",
              "Food & Drink         1.552381\n",
              "Photo & Video        1.473295\n",
              "Games                1.432923\n",
              "Travel               1.120370\n",
              "Sports               0.953070\n",
              "Entertainment        0.889701\n",
              "Lifestyle            0.885417\n",
              "Catalogs             0.799000\n",
              "News                 0.517733\n",
              "Finance              0.421154\n",
              "Social Networking    0.339880\n",
              "Shopping             0.016311\n",
              "Name: price, dtype: float64"
            ]
          },
          "metadata": {},
          "execution_count": 65
        }
      ],
      "source": [
        "apps.groupby('prime_genre')['price'].mean().sort_values(ascending=False)"
      ]
    },
    {
      "cell_type": "code",
      "source": [
        ""
      ],
      "metadata": {
        "id": "CxdxD40TEFb2"
      },
      "execution_count": null,
      "outputs": []
    }
  ],
  "metadata": {
    "kernelspec": {
      "display_name": "Python 3",
      "language": "python",
      "name": "python3"
    },
    "language_info": {
      "codemirror_mode": {
        "name": "ipython",
        "version": 3
      },
      "file_extension": ".py",
      "mimetype": "text/x-python",
      "name": "python",
      "nbconvert_exporter": "python",
      "pygments_lexer": "ipython3",
      "version": "3.7.0"
    },
    "colab": {
      "name": "main.ipynb",
      "provenance": [],
      "collapsed_sections": []
    }
  },
  "nbformat": 4,
  "nbformat_minor": 0
}